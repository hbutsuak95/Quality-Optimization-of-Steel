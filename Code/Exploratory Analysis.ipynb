{
 "cells": [
  {
   "cell_type": "code",
   "execution_count": 1,
   "metadata": {
    "collapsed": true
   },
   "outputs": [],
   "source": [
    "%matplotlib inline\n",
    "import pandas as pd\n",
    "import matplotlib.pyplot as plt\n",
    "import seaborn as sns\n",
    "import numpy as np\n",
    "import scipy.io as io\n",
    "import os\n",
    "import pickle as pkl"
   ]
  },
  {
   "cell_type": "code",
   "execution_count": 2,
   "metadata": {
    "collapsed": false
   },
   "outputs": [
    {
     "name": "stdout",
     "output_type": "stream",
     "text": [
      "Physics and Chemistry Data Both.xlsx chemistry_input_data.pkl\r\n",
      "ROT_snapshots.mat                    coil_ids_and_total_times.txt\r\n",
      "all_data_together.mat                fc6_speeds.csv\r\n",
      "all_data_together.pkl                physics-and-chemistry-data-both.csv\r\n"
     ]
    }
   ],
   "source": [
    "!ls ../Data/"
   ]
  },
  {
   "cell_type": "code",
   "execution_count": 3,
   "metadata": {
    "collapsed": true
   },
   "outputs": [],
   "source": [
    "data = pkl.load(open(\"../Data/all_data_together.pkl\"))"
   ]
  },
  {
   "cell_type": "code",
   "execution_count": 4,
   "metadata": {
    "collapsed": false
   },
   "outputs": [],
   "source": [
    "keys = data.keys()"
   ]
  },
  {
   "cell_type": "code",
   "execution_count": 6,
   "metadata": {
    "collapsed": false,
    "scrolled": false
   },
   "outputs": [
    {
     "data": {
      "text/plain": [
       "{'AIM_QLTY': 'T01244',\n",
       " 'AL': '0.05',\n",
       " 'B': '0.0001',\n",
       " 'C': '0.035',\n",
       " 'COOLING_SEQ': array([[ 0.,  0.,  0.,  0.,  1.,  1.,  1.,  1.,  1.,  1.,  1.,  1.,  1.,\n",
       "          1.,  1.,  1.,  1.,  1.,  1.,  1.,  1.,  1.,  1.,  1.,  1.,  1.,\n",
       "          1.,  1.,  1.,  1.,  2.,  2.,  2.,  2.,  2.,  2.,  2.,  2.,  2.,\n",
       "          2.,  1.,  1.,  1.,  1.,  1.,  1.,  1.,  1.,  1.,  1.,  1.,  1.,\n",
       "          1.,  1.,  1.,  1.,  1.,  1.,  1.,  1.,  1.,  1.,  1.,  1.,  1.,\n",
       "          1.,  1.,  1.,  1.,  1.,  1.,  1.,  1.,  1.,  1.,  1.,  1.,  1.]]),\n",
       " 'CR': '0.016',\n",
       " 'CT_AVG': '550.6653982',\n",
       " 'CU': '0.008',\n",
       " 'EL': '41',\n",
       " 'F6_AVG': '6.19171134',\n",
       " 'FRT_AVG': '909.0930952',\n",
       " 'HR_ID': '88540102',\n",
       " 'LYS': '282',\n",
       " 'MN': '0.15',\n",
       " 'N': '20',\n",
       " 'NB': '0.001',\n",
       " 'NI': '0.014',\n",
       " 'P': '0.01',\n",
       " 'RMET_P1_AVG': '639.64',\n",
       " 'RMET_P2_AVG': '885.65',\n",
       " 'RMET_P3_AVG': '727.9',\n",
       " 'RMET_P4_AVG': '882.15',\n",
       " 'RMET_P5_AVG': '755.85',\n",
       " 'RMET_P6_AVG': '961.54',\n",
       " 'RMET_P7_AVG': '887.05',\n",
       " 'S': '0.007',\n",
       " 'SDOT': '1184.1',\n",
       " 'SEC1': '4.5',\n",
       " 'SI': '0.009',\n",
       " 'SLB_RET_TM_MIN': '210',\n",
       " 'SLB_SOCKING_TM': '1649',\n",
       " 'TI': '0.001',\n",
       " 'UTS': '358',\n",
       " 'V': '0.001'}"
      ]
     },
     "execution_count": 6,
     "metadata": {},
     "output_type": "execute_result"
    }
   ],
   "source": [
    "data[\"COIL_88540102\"]"
   ]
  },
  {
   "cell_type": "code",
   "execution_count": 6,
   "metadata": {
    "collapsed": false,
    "scrolled": true
   },
   "outputs": [],
   "source": [
    "num_cool = []\n",
    "for i in data.keys():\n",
    "    num_cool.append(len(data[i]['COOLING_SEQ'][0]))"
   ]
  },
  {
   "cell_type": "code",
   "execution_count": 7,
   "metadata": {
    "collapsed": false
   },
   "outputs": [
    {
     "data": {
      "text/plain": [
       "812.027125"
      ]
     },
     "execution_count": 7,
     "metadata": {},
     "output_type": "execute_result"
    }
   ],
   "source": [
    "num_cool[1]*8.923375"
   ]
  },
  {
   "cell_type": "code",
   "execution_count": 8,
   "metadata": {
    "collapsed": false
   },
   "outputs": [
    {
     "data": {
      "text/plain": [
       "482.95348452"
      ]
     },
     "execution_count": 8,
     "metadata": {},
     "output_type": "execute_result"
    }
   ],
   "source": [
    "num_cool[0]*6.19171134"
   ]
  }
 ],
 "metadata": {
  "kernelspec": {
   "display_name": "Python 2",
   "language": "python",
   "name": "python2"
  },
  "language_info": {
   "codemirror_mode": {
    "name": "ipython",
    "version": 2
   },
   "file_extension": ".py",
   "mimetype": "text/x-python",
   "name": "python",
   "nbconvert_exporter": "python",
   "pygments_lexer": "ipython2",
   "version": "2.7.11"
  }
 },
 "nbformat": 4,
 "nbformat_minor": 0
}
