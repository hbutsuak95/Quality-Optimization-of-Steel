{
 "cells": [
  {
   "cell_type": "code",
   "execution_count": 2,
   "metadata": {
    "collapsed": true
   },
   "outputs": [],
   "source": [
    "import numpy as np\n",
    "from sklearn.svm import SVR\n",
    "import TataSteel as input_data"
   ]
  },
  {
   "cell_type": "markdown",
   "metadata": {},
   "source": [
    "Load physics data\n",
    "================="
   ]
  },
  {
   "cell_type": "code",
   "execution_count": 3,
   "metadata": {
    "collapsed": false
   },
   "outputs": [],
   "source": [
    "train_dir = '/users/TeamSteel/TATA_Steel_Project/TATA_Steel_Project/Data'\n",
    "data_sets = input_data.read_data_sets(train_dir,'physics_input_data.pkl')\n",
    "training_data = data_sets.train\n",
    "validation_data = data_sets.validation\n",
    "test_data = data_sets.test\n"
   ]
  },
  {
   "cell_type": "markdown",
   "metadata": {},
   "source": [
    "  Load the training data\n",
    "-------------------------"
   ]
  },
  {
   "cell_type": "code",
   "execution_count": 4,
   "metadata": {
    "collapsed": true
   },
   "outputs": [],
   "source": [
    "train_inp, train_tgt = training_data._inputs, training_data._targets"
   ]
  },
  {
   "cell_type": "markdown",
   "metadata": {},
   "source": [
    "Support Vector Regressor model\n",
    "=============================="
   ]
  },
  {
   "cell_type": "code",
   "execution_count": 5,
   "metadata": {
    "collapsed": false
   },
   "outputs": [
    {
     "name": "stderr",
     "output_type": "stream",
     "text": [
      "/usr/local/lib/python2.7/dist-packages/sklearn/svm/base.py:216: DataConversionWarning: A column-vector y was passed when a 1d array was expected. Please change the shape of y to (n_samples, ), for example using ravel().\n",
      "  return column_or_1d(y, warn=True).astype(np.float64)\n",
      "/usr/local/lib/python2.7/dist-packages/sklearn/svm/base.py:216: DataConversionWarning: A column-vector y was passed when a 1d array was expected. Please change the shape of y to (n_samples, ), for example using ravel().\n",
      "  return column_or_1d(y, warn=True).astype(np.float64)\n",
      "/usr/local/lib/python2.7/dist-packages/sklearn/svm/base.py:216: DataConversionWarning: A column-vector y was passed when a 1d array was expected. Please change the shape of y to (n_samples, ), for example using ravel().\n",
      "  return column_or_1d(y, warn=True).astype(np.float64)\n"
     ]
    },
    {
     "data": {
      "text/plain": [
       "SVR(C=1.0, cache_size=200, coef0=0.0, degree=3, epsilon=0.1, gamma='auto',\n",
       "  kernel='rbf', max_iter=-1, shrinking=True, tol=0.001, verbose=False)"
      ]
     },
     "execution_count": 5,
     "metadata": {},
     "output_type": "execute_result"
    }
   ],
   "source": [
    "model0 = SVR(kernel='rbf')\n",
    "model1 = SVR(kernel='rbf')\n",
    "model2 = SVR(kernel='rbf')\n",
    "\n",
    "model0.fit(train_inp,train_tgt[:,0])\n",
    "model1.fit(train_inp,train_tgt[:,1])\n",
    "model2.fit(train_inp,train_tgt[:,2])"
   ]
  },
  {
   "cell_type": "markdown",
   "metadata": {},
   "source": [
    "Evaluate model\n",
    "=============="
   ]
  },
  {
   "cell_type": "code",
   "execution_count": 53,
   "metadata": {
    "collapsed": false
   },
   "outputs": [],
   "source": [
    "def eval_model(model, data, target_idx):\n",
    "    \"\"\"\n",
    "    Evaluates a trained model for a given dataset\n",
    "    \n",
    "    Inputs:\n",
    "           model      = any sklearn machine learning model\n",
    "           data       = dataset structure with the inputs and targets\n",
    "           target_idx = index of the output variable to be predicted\n",
    "    Outputs:\n",
    "           relative_RMSE = (Root Mean Squared Error / Mean Value of the Target)\n",
    "    \"\"\"\n",
    "    inputs = data._inputs\n",
    "    targets = data._targets\n",
    "    predictions = model.predict(inputs)\n",
    "    squared_error = np.square(np.subtract(np.transpose(targets[:,target_idx]),predictions))\n",
    "    \n",
    "    MSE = np.mean(squared_error)\n",
    "    RMSE = np.sqrt(MSE)\n",
    "    \n",
    "    mean_target = np.mean(targets, axis=0)\n",
    "    relative_RMSE = np.divide(RMSE, np.transpose(mean_target[0,target_idx]))\n",
    "    return relative_RMSE"
   ]
  },
  {
   "cell_type": "code",
   "execution_count": 52,
   "metadata": {
    "collapsed": false
   },
   "outputs": [
    {
     "data": {
      "text/plain": [
       "35.884195711188227"
      ]
     },
     "execution_count": 52,
     "metadata": {},
     "output_type": "execute_result"
    }
   ],
   "source": [
    "# mean_target = np.mean(train_tgt, axis=0)\n",
    "# mean_target[0,0]"
   ]
  },
  {
   "cell_type": "code",
   "execution_count": 14,
   "metadata": {
    "collapsed": true
   },
   "outputs": [],
   "source": [
    "# train_predictions = model0.predict(train_inp)"
   ]
  },
  {
   "cell_type": "code",
   "execution_count": 38,
   "metadata": {
    "collapsed": false
   },
   "outputs": [],
   "source": [
    "# error = np.subtract(np.transpose(train_tgt[:,0]),train_predictions)"
   ]
  },
  {
   "cell_type": "markdown",
   "metadata": {},
   "source": [
    "a) Training RMSE\n",
    "-------------"
   ]
  },
  {
   "cell_type": "code",
   "execution_count": 56,
   "metadata": {
    "collapsed": false
   },
   "outputs": [],
   "source": [
    "train_RMSE_0 = eval_model(model0,training_data, target_idx=0)\n",
    "train_RMSE_1 = eval_model(model1,training_data, target_idx=1)\n",
    "train_RMSE_2 = eval_model(model2,training_data, target_idx=2)"
   ]
  },
  {
   "cell_type": "code",
   "execution_count": 58,
   "metadata": {
    "collapsed": false
   },
   "outputs": [
    {
     "name": "stdout",
     "output_type": "stream",
     "text": [
      " 0.126045597288 0.218499301742 0.229947256364\n"
     ]
    }
   ],
   "source": [
    "print train_RMSE_0, train_RMSE_1, train_RMSE_2"
   ]
  },
  {
   "cell_type": "markdown",
   "metadata": {},
   "source": [
    "b) Validation RMSE\n",
    "---------------"
   ]
  },
  {
   "cell_type": "code",
   "execution_count": 59,
   "metadata": {
    "collapsed": true
   },
   "outputs": [],
   "source": [
    "validation_RMSE_0 = eval_model(model0,validation_data, target_idx=0)\n",
    "validation_RMSE_1 = eval_model(model1,validation_data, target_idx=1)\n",
    "validation_RMSE_2 = eval_model(model2,validation_data, target_idx=2)"
   ]
  },
  {
   "cell_type": "code",
   "execution_count": 60,
   "metadata": {
    "collapsed": false
   },
   "outputs": [
    {
     "name": "stdout",
     "output_type": "stream",
     "text": [
      "0.167166768917 0.184667718454 0.147177409192\n"
     ]
    }
   ],
   "source": [
    "print validation_RMSE_0, validation_RMSE_1, validation_RMSE_2"
   ]
  },
  {
   "cell_type": "markdown",
   "metadata": {},
   "source": [
    "c) Test RMSE\n",
    "---------"
   ]
  },
  {
   "cell_type": "code",
   "execution_count": 61,
   "metadata": {
    "collapsed": true
   },
   "outputs": [],
   "source": [
    "test_RMSE_0 = eval_model(model0,test_data, target_idx=0)\n",
    "test_RMSE_1 = eval_model(model1,test_data, target_idx=1)\n",
    "test_RMSE_2 = eval_model(model2,test_data, target_idx=2)"
   ]
  },
  {
   "cell_type": "code",
   "execution_count": 62,
   "metadata": {
    "collapsed": false
   },
   "outputs": [
    {
     "name": "stdout",
     "output_type": "stream",
     "text": [
      "0.143420610503 0.218462645284 0.213080688464\n"
     ]
    }
   ],
   "source": [
    "print test_RMSE_0, test_RMSE_1, test_RMSE_2"
   ]
  },
  {
   "cell_type": "markdown",
   "metadata": {},
   "source": [
    "Load chemistry data\n",
    "==================="
   ]
  },
  {
   "cell_type": "code",
   "execution_count": 64,
   "metadata": {
    "collapsed": true
   },
   "outputs": [],
   "source": [
    "train_dir = '/users/TeamSteel/TATA_Steel_Project/TATA_Steel_Project/Data'\n",
    "data_sets = input_data.read_data_sets(train_dir,'chemistry_input_data.pkl')\n",
    "training_data = data_sets.train\n",
    "validation_data = data_sets.validation\n",
    "test_data = data_sets.test"
   ]
  },
  {
   "cell_type": "markdown",
   "metadata": {},
   "source": [
    "  Load the training data\n",
    "-------------------------"
   ]
  },
  {
   "cell_type": "code",
   "execution_count": 65,
   "metadata": {
    "collapsed": true
   },
   "outputs": [],
   "source": [
    "train_inp, train_tgt = training_data._inputs, training_data._targets"
   ]
  },
  {
   "cell_type": "markdown",
   "metadata": {},
   "source": [
    "Support Vector Regressor model\n",
    "=============================="
   ]
  },
  {
   "cell_type": "code",
   "execution_count": 66,
   "metadata": {
    "collapsed": false
   },
   "outputs": [
    {
     "name": "stderr",
     "output_type": "stream",
     "text": [
      "/usr/local/lib/python2.7/dist-packages/sklearn/svm/base.py:216: DataConversionWarning: A column-vector y was passed when a 1d array was expected. Please change the shape of y to (n_samples, ), for example using ravel().\n",
      "  return column_or_1d(y, warn=True).astype(np.float64)\n",
      "/usr/local/lib/python2.7/dist-packages/sklearn/svm/base.py:216: DataConversionWarning: A column-vector y was passed when a 1d array was expected. Please change the shape of y to (n_samples, ), for example using ravel().\n",
      "  return column_or_1d(y, warn=True).astype(np.float64)\n",
      "/usr/local/lib/python2.7/dist-packages/sklearn/svm/base.py:216: DataConversionWarning: A column-vector y was passed when a 1d array was expected. Please change the shape of y to (n_samples, ), for example using ravel().\n",
      "  return column_or_1d(y, warn=True).astype(np.float64)\n"
     ]
    },
    {
     "data": {
      "text/plain": [
       "SVR(C=1.0, cache_size=200, coef0=0.0, degree=3, epsilon=0.1, gamma='auto',\n",
       "  kernel='rbf', max_iter=-1, shrinking=True, tol=0.001, verbose=False)"
      ]
     },
     "execution_count": 66,
     "metadata": {},
     "output_type": "execute_result"
    }
   ],
   "source": [
    "model0 = SVR(kernel='rbf')\n",
    "model1 = SVR(kernel='rbf')\n",
    "model2 = SVR(kernel='rbf')\n",
    "\n",
    "model0.fit(train_inp,train_tgt[:,0])\n",
    "model1.fit(train_inp,train_tgt[:,1])\n",
    "model2.fit(train_inp,train_tgt[:,2])"
   ]
  },
  {
   "cell_type": "markdown",
   "metadata": {},
   "source": [
    "Evaluate model\n",
    "=============="
   ]
  },
  {
   "cell_type": "code",
   "execution_count": 67,
   "metadata": {
    "collapsed": false
   },
   "outputs": [
    {
     "name": "stdout",
     "output_type": "stream",
     "text": [
      "0.143420610503 0.218462645284 0.213080688464\n"
     ]
    }
   ],
   "source": [
    "train_RMSE_0 = eval_model(model0,training_data, target_idx=0)\n",
    "train_RMSE_1 = eval_model(model1,training_data, target_idx=1)\n",
    "train_RMSE_2 = eval_model(model2,training_data, target_idx=2)\n",
    "\n",
    "print test_RMSE_0, test_RMSE_1, test_RMSE_2"
   ]
  },
  {
   "cell_type": "code",
   "execution_count": 68,
   "metadata": {
    "collapsed": false
   },
   "outputs": [
    {
     "name": "stdout",
     "output_type": "stream",
     "text": [
      "0.108329671847 0.065472025595 0.048600587135\n"
     ]
    }
   ],
   "source": [
    "validation_RMSE_0 = eval_model(model0,validation_data, target_idx=0)\n",
    "validation_RMSE_1 = eval_model(model1,validation_data, target_idx=1)\n",
    "validation_RMSE_2 = eval_model(model2,validation_data, target_idx=2)\n",
    "\n",
    "print validation_RMSE_0, validation_RMSE_1, validation_RMSE_2"
   ]
  },
  {
   "cell_type": "code",
   "execution_count": 69,
   "metadata": {
    "collapsed": false
   },
   "outputs": [
    {
     "name": "stdout",
     "output_type": "stream",
     "text": [
      "0.072439710415 0.0727497657661 0.0724901946951\n"
     ]
    }
   ],
   "source": [
    "test_RMSE_0 = eval_model(model0,test_data, target_idx=0)\n",
    "test_RMSE_1 = eval_model(model1,test_data, target_idx=1)\n",
    "test_RMSE_2 = eval_model(model2,test_data, target_idx=2)\n",
    "\n",
    "print test_RMSE_0, test_RMSE_1, test_RMSE_2"
   ]
  },
  {
   "cell_type": "code",
   "execution_count": null,
   "metadata": {
    "collapsed": true
   },
   "outputs": [],
   "source": []
  }
 ],
 "metadata": {
  "kernelspec": {
   "display_name": "Python 2",
   "language": "python",
   "name": "python2"
  },
  "language_info": {
   "codemirror_mode": {
    "name": "ipython",
    "version": 2
   },
   "file_extension": ".py",
   "mimetype": "text/x-python",
   "name": "python",
   "nbconvert_exporter": "python",
   "pygments_lexer": "ipython2",
   "version": "2.7.6"
  }
 },
 "nbformat": 4,
 "nbformat_minor": 0
}
