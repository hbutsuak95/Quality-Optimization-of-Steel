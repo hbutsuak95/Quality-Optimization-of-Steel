{
 "cells": [
  {
   "cell_type": "code",
   "execution_count": 1,
   "metadata": {
    "collapsed": true
   },
   "outputs": [],
   "source": [
    "import numpy as np\n",
    "import os\n",
    "import pickle as pkl"
   ]
  },
  {
   "cell_type": "code",
   "execution_count": 2,
   "metadata": {
    "collapsed": true
   },
   "outputs": [],
   "source": [
    "DATA_DIR = '/users/TeamSteel/TATA_Steel_Project/Data'"
   ]
  },
  {
   "cell_type": "markdown",
   "metadata": {},
   "source": [
    "Mean normalize and make standard deviation 1 for all input fields\n",
    "==============================="
   ]
  },
  {
   "cell_type": "markdown",
   "metadata": {},
   "source": [
    "Chemistry data\n",
    "--------------"
   ]
  },
  {
   "cell_type": "code",
   "execution_count": 3,
   "metadata": {
    "collapsed": true
   },
   "outputs": [],
   "source": [
    "f_in = open(os.path.join(DATA_DIR, 'chemistry-data-missing-data-removed.csv'),'r')"
   ]
  },
  {
   "cell_type": "code",
   "execution_count": 4,
   "metadata": {
    "collapsed": true
   },
   "outputs": [],
   "source": [
    "input_data_array = []\n",
    "target_data_array = []"
   ]
  },
  {
   "cell_type": "code",
   "execution_count": 5,
   "metadata": {
    "collapsed": false
   },
   "outputs": [
    {
     "name": "stdout",
     "output_type": "stream",
     "text": [
      "10000\n",
      "20000\n",
      "30000\n",
      "40000\n",
      "50000\n"
     ]
    }
   ],
   "source": [
    "count = 0\n",
    "for line in f_in:\n",
    "#     print line\n",
    "    count += 1\n",
    "    if count%10000 == 0:\n",
    "        print count\n",
    "    if count == 1:\n",
    "        continue\n",
    "    else:\n",
    "        line = line.split(',')\n",
    "        in_data = [float(element) for element in line[2:-3]]\n",
    "        tgt_data = [float(element) for element in line[-3:]]\n",
    "        input_data_array.append(in_data)\n",
    "        target_data_array.append(tgt_data)\n",
    "input_data_array = np.asmatrix(input_data_array)\n",
    "target_data_array = np.asmatrix(target_data_array)\n"
   ]
  },
  {
   "cell_type": "code",
   "execution_count": 6,
   "metadata": {
    "collapsed": false
   },
   "outputs": [
    {
     "name": "stdout",
     "output_type": "stream",
     "text": [
      "(51838, 14)\n",
      "(51838, 3)\n"
     ]
    }
   ],
   "source": [
    "print input_data_array.shape\n",
    "print target_data_array.shape"
   ]
  },
  {
   "cell_type": "code",
   "execution_count": 7,
   "metadata": {
    "collapsed": true
   },
   "outputs": [],
   "source": [
    "mean_vector = np.mean(input_data_array,axis=0)\n",
    "std_vector = np.std(input_data_array,axis=0)"
   ]
  },
  {
   "cell_type": "code",
   "execution_count": 8,
   "metadata": {
    "collapsed": true
   },
   "outputs": [],
   "source": [
    "input_data_array_mean_normalized = input_data_array - mean_vector\n",
    "input_data_array_mean_normalized_unity_std = input_data_array_mean_normalized / std_vector"
   ]
  },
  {
   "cell_type": "code",
   "execution_count": 9,
   "metadata": {
    "collapsed": false
   },
   "outputs": [
    {
     "data": {
      "text/plain": [
       "(51838, 14)"
      ]
     },
     "execution_count": 9,
     "metadata": {},
     "output_type": "execute_result"
    }
   ],
   "source": [
    "input_data_array_mean_normalized_unity_std.shape"
   ]
  },
  {
   "cell_type": "code",
   "execution_count": 10,
   "metadata": {
    "collapsed": true
   },
   "outputs": [],
   "source": [
    "out_file = open(os.path.join(DATA_DIR,'chemistry_input_data.pkl'), 'wb')\n",
    "pkl.dump({'input_data_normalized': input_data_array_mean_normalized_unity_std, \n",
    "         'target_data': target_data_array,\n",
    "         'mean_input_vector': mean_vector},\n",
    "        out_file)\n",
    "out_file.close()"
   ]
  },
  {
   "cell_type": "markdown",
   "metadata": {},
   "source": [
    "Physics data\n",
    "----------"
   ]
  },
  {
   "cell_type": "code",
   "execution_count": 11,
   "metadata": {
    "collapsed": true
   },
   "outputs": [],
   "source": [
    "f_in = open(os.path.join(DATA_DIR, 'physics-data-missing-data-removed.csv'),'r')"
   ]
  },
  {
   "cell_type": "code",
   "execution_count": 12,
   "metadata": {
    "collapsed": true
   },
   "outputs": [],
   "source": [
    "input_data_array = []\n",
    "target_data_array = []"
   ]
  },
  {
   "cell_type": "code",
   "execution_count": 13,
   "metadata": {
    "collapsed": false
   },
   "outputs": [
    {
     "name": "stdout",
     "output_type": "stream",
     "text": [
      "10000\n",
      "20000\n",
      "30000\n"
     ]
    }
   ],
   "source": [
    "count = 0\n",
    "for line in f_in:\n",
    "#     print line\n",
    "    count += 1\n",
    "    if count%10000 == 0:\n",
    "        print count\n",
    "    if count == 1:\n",
    "        continue\n",
    "    else:\n",
    "        line = line.split(',')\n",
    "        in_data = [float(element) for element in line[2:-3]]\n",
    "        tgt_data = [float(element) for element in line[-3:]]\n",
    "        input_data_array.append(in_data)\n",
    "        target_data_array.append(tgt_data)\n",
    "input_data_array = np.asmatrix(input_data_array)\n",
    "target_data_array = np.asmatrix(target_data_array)"
   ]
  },
  {
   "cell_type": "code",
   "execution_count": 14,
   "metadata": {
    "collapsed": false
   },
   "outputs": [
    {
     "name": "stdout",
     "output_type": "stream",
     "text": [
      "(32943, 14)\n",
      "(32943, 3)\n"
     ]
    }
   ],
   "source": [
    "print input_data_array.shape\n",
    "print target_data_array.shape"
   ]
  },
  {
   "cell_type": "code",
   "execution_count": 15,
   "metadata": {
    "collapsed": true
   },
   "outputs": [],
   "source": [
    "mean_vector = np.mean(input_data_array,axis=0)\n",
    "std_vector = np.std(input_data_array,axis=0)"
   ]
  },
  {
   "cell_type": "code",
   "execution_count": 16,
   "metadata": {
    "collapsed": true
   },
   "outputs": [],
   "source": [
    "input_data_array_mean_normalized = input_data_array - mean_vector\n",
    "input_data_array_mean_normalized_unity_std = input_data_array_mean_normalized / std_vector"
   ]
  },
  {
   "cell_type": "code",
   "execution_count": 17,
   "metadata": {
    "collapsed": false
   },
   "outputs": [
    {
     "data": {
      "text/plain": [
       "(32943, 14)"
      ]
     },
     "execution_count": 17,
     "metadata": {},
     "output_type": "execute_result"
    }
   ],
   "source": [
    "input_data_array_mean_normalized_unity_std.shape"
   ]
  },
  {
   "cell_type": "code",
   "execution_count": 18,
   "metadata": {
    "collapsed": true
   },
   "outputs": [],
   "source": [
    "out_file = open(os.path.join(DATA_DIR,'physics_input_data.pkl'), 'wb')\n",
    "pkl.dump({'input_data_normalized': input_data_array_mean_normalized_unity_std, \n",
    "         'target_data': target_data_array,\n",
    "         'mean_input_vector': mean_vector},\n",
    "        out_file)\n",
    "out_file.close()"
   ]
  },
  {
   "cell_type": "code",
   "execution_count": null,
   "metadata": {
    "collapsed": true
   },
   "outputs": [],
   "source": []
  }
 ],
 "metadata": {
  "kernelspec": {
   "display_name": "Python 2",
   "language": "python",
   "name": "python2"
  },
  "language_info": {
   "codemirror_mode": {
    "name": "ipython",
    "version": 2
   },
   "file_extension": ".py",
   "mimetype": "text/x-python",
   "name": "python",
   "nbconvert_exporter": "python",
   "pygments_lexer": "ipython2",
   "version": "2.7.11"
  }
 },
 "nbformat": 4,
 "nbformat_minor": 0
}
